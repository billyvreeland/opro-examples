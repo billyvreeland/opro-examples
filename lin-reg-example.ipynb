{
 "cells": [
  {
   "cell_type": "markdown",
   "metadata": {},
   "source": [
    "###\n",
    "Setup"
   ]
  },
  {
   "cell_type": "code",
   "execution_count": 25,
   "metadata": {},
   "outputs": [],
   "source": [
    "import plotly.graph_objects as go\n",
    "import openai\n",
    "\n",
    "from opro import BlackBox, MessageTracker\n",
    "\n",
    "openai.api_key = os.getenv("""OPENAI_API_KEY""")"
   ]
  },
  {
   "cell_type": "markdown",
   "metadata": {},
   "source": [
    "Create some sample linear data of the form `y = ax + b + epsilon` using the BlackBox model where we know the true `a` and `b` values"
   ]
  },
  {
   "cell_type": "code",
   "execution_count": 26,
   "metadata": {},
   "outputs": [],
   "source": [
    "a_true = -7\n",
    "b_true = 8\n",
    "box = BlackBox(a_true, b_true)"
   ]
  },
  {
   "cell_type": "code",
   "execution_count": 27,
   "metadata": {},
   "outputs": [
    {
     "data": {
      "application/vnd.plotly.v1+json": {
       "config": {
        "plotlyServerURL": "https://plot.ly"
       },
       "data": [
        {
         "mode": "markers",
         "type": "scatter",
         "x": [
          -1.1229597291396498,
          -6.10774569373856,
          -5.883128096819137,
          2.8536218776955717,
          8.08665232237719,
          3.011350290801076,
          5.874170589838267,
          3.8617323763559455,
          -9.464310497878914,
          -3.7419027860463663,
          -9.716735521881125,
          3.0850595955350304,
          -7.840527555587945,
          2.1996532655008263,
          9.811251554213815,
          1.2575904913658,
          6.3128310778146215,
          1.5575399724865413,
          -8.765837321375136,
          9.549121906535639,
          10.876025084584565,
          -7.014975623227444,
          -0.3260020382990927,
          7.11350035209724,
          -1.2095149852602294,
          9.498906001073827,
          9.22995138495645,
          1.2614082431316707,
          6.97927839571523,
          7.73254388887252,
          -8.367540514938868,
          -6.409100483093317,
          9.84275135783022,
          -2.1109528248330367,
          -4.205630016658296,
          10.380195608958847,
          4.096933448971614,
          -4.674059806984159,
          6.357183412272196,
          9.169614482399169,
          -9.387517350225702,
          -6.087969726348926,
          -5.720050137177839,
          8.971068619912465,
          -0.8694105367560017,
          -4.370970929369265,
          8.822086536253732,
          -6.700359518785818,
          1.1971493054385771,
          -6.318020105370476,
          0.02691222489100653,
          -2.7586472224520984,
          -2.1302903846247228,
          -5.5475749415100815,
          -9.310433346428772,
          6.540576471578035,
          9.685529131832897,
          2.695098958694718,
          -9.530712609331077,
          -4.272680888493575,
          -4.99809149314945,
          4.088175806523063,
          2.638600695291556,
          8.994257540599516,
          -8.553221712083126,
          -7.941327721169402,
          0.1257122870251841,
          -9.175753058026002,
          2.85228799959828,
          0.28119631254924826,
          10.97902830534155,
          1.473954630738282,
          3.701926986388349,
          -3.406047332300435,
          -3.2981353232293102,
          1.9536754548583595,
          7.76594115023671,
          6.155922361525132,
          1.3206622979725644,
          -6.511376125366751,
          -2.992429722620731,
          2.9249184072730436,
          2.9634756698931195,
          4.258806447450208,
          -5.383706344171171,
          4.766210121786518,
          10.81496528963909,
          -9.185660652917415,
          8.464289729703843,
          -3.8848078066552656,
          0.4359165077675904,
          7.980123053615294,
          9.393372401481699,
          -3.890468224291128,
          3.7643417450038843,
          6.402381721399223,
          -5.222909137808845,
          10.554993094180098,
          9.021588247396348,
          -8.886611189187093
         ],
         "y": [
          15.657440873759176,
          51.6678894726453,
          44.3119760866914,
          -12.922622843162873,
          -49.464980807284434,
          -14.110480886655079,
          -35.38259218518716,
          -17.514360940470166,
          69.32995808171268,
          33.383914144014184,
          74.60588676657508,
          -12.464660021664498,
          65.6750186889852,
          -9.91320827147372,
          -58.15510440616944,
          -1.2646904504211092,
          -32.33181873885861,
          0.29130054777384773,
          68.25386530286055,
          -56.318266704556045,
          -68.01460636052198,
          57.699763518508554,
          9.663578062063536,
          -43.101133676959314,
          16.807697712003577,
          -60.45605393807737,
          -54.95434643881929,
          1.3525226505918728,
          -39.60977142600848,
          -47.8205132220466,
          70.29761705277159,
          49.28357275781756,
          -61.08141595994327,
          21.38235155903245,
          35.403469412137895,
          -66.36268099249907,
          -21.937422979206417,
          42.204200676782264,
          -35.34031753189257,
          -57.38937098475386,
          76.37646598183373,
          51.12952369492476,
          45.68896209176414,
          -55.99172351971258,
          15.224423310458969,
          37.61432858515877,
          -55.58353595561181,
          55.10024226798525,
          0.3675365493527061,
          50.5084310358689,
          7.83434516786989,
          29.824705522108417,
          21.70754062538379,
          45.726803041342755,
          73.570043062489,
          -38.49288718812743,
          -58.982654960498415,
          -4.763490766004245,
          73.20131375132922,
          36.43372208568705,
          45.0855750514478,
          -23.310556704668166,
          -8.006146528224368,
          -52.59665638695851,
          68.81062388234378,
          63.596484871115535,
          5.495289660789908,
          70.79635421371518,
          -10.305970066403008,
          4.445338600016257,
          -67.36916072695995,
          -1.616303052936795,
          -18.690384466854184,
          32.20899891393199,
          32.58102881194369,
          -6.855562971524745,
          -46.948750349480996,
          -31.90662825337707,
          -0.21886406164978256,
          52.56575436435197,
          29.6370261547534,
          -14.761363491116763,
          -12.558745372318073,
          -18.29956750754293,
          46.98097368803138,
          -25.53969677034748,
          -66.62584606413537,
          71.4931941726102,
          -54.13871944383686,
          40.44187747809279,
          4.190125917627615,
          -50.84527996412803,
          -63.20897127889861,
          32.713259876534984,
          -21.84362723402991,
          -36.916595307767786,
          43.09113057928554,
          -64.82804237808699,
          -57.104239788159845,
          70.91181666642413
         ]
        }
       ],
       "layout": {
        "height": 600,
        "template": {
         "data": {
          "bar": [
           {
            "error_x": {
             "color": "#2a3f5f"
            },
            "error_y": {
             "color": "#2a3f5f"
            },
            "marker": {
             "line": {
              "color": "#E5ECF6",
              "width": 0.5
             },
             "pattern": {
              "fillmode": "overlay",
              "size": 10,
              "solidity": 0.2
             }
            },
            "type": "bar"
           }
          ],
          "barpolar": [
           {
            "marker": {
             "line": {
              "color": "#E5ECF6",
              "width": 0.5
             },
             "pattern": {
              "fillmode": "overlay",
              "size": 10,
              "solidity": 0.2
             }
            },
            "type": "barpolar"
           }
          ],
          "carpet": [
           {
            "aaxis": {
             "endlinecolor": "#2a3f5f",
             "gridcolor": "white",
             "linecolor": "white",
             "minorgridcolor": "white",
             "startlinecolor": "#2a3f5f"
            },
            "baxis": {
             "endlinecolor": "#2a3f5f",
             "gridcolor": "white",
             "linecolor": "white",
             "minorgridcolor": "white",
             "startlinecolor": "#2a3f5f"
            },
            "type": "carpet"
           }
          ],
          "choropleth": [
           {
            "colorbar": {
             "outlinewidth": 0,
             "ticks": ""
            },
            "type": "choropleth"
           }
          ],
          "contour": [
           {
            "colorbar": {
             "outlinewidth": 0,
             "ticks": ""
            },
            "colorscale": [
             [
              0,
              "#0d0887"
             ],
             [
              0.1111111111111111,
              "#46039f"
             ],
             [
              0.2222222222222222,
              "#7201a8"
             ],
             [
              0.3333333333333333,
              "#9c179e"
             ],
             [
              0.4444444444444444,
              "#bd3786"
             ],
             [
              0.5555555555555556,
              "#d8576b"
             ],
             [
              0.6666666666666666,
              "#ed7953"
             ],
             [
              0.7777777777777778,
              "#fb9f3a"
             ],
             [
              0.8888888888888888,
              "#fdca26"
             ],
             [
              1,
              "#f0f921"
             ]
            ],
            "type": "contour"
           }
          ],
          "contourcarpet": [
           {
            "colorbar": {
             "outlinewidth": 0,
             "ticks": ""
            },
            "type": "contourcarpet"
           }
          ],
          "heatmap": [
           {
            "colorbar": {
             "outlinewidth": 0,
             "ticks": ""
            },
            "colorscale": [
             [
              0,
              "#0d0887"
             ],
             [
              0.1111111111111111,
              "#46039f"
             ],
             [
              0.2222222222222222,
              "#7201a8"
             ],
             [
              0.3333333333333333,
              "#9c179e"
             ],
             [
              0.4444444444444444,
              "#bd3786"
             ],
             [
              0.5555555555555556,
              "#d8576b"
             ],
             [
              0.6666666666666666,
              "#ed7953"
             ],
             [
              0.7777777777777778,
              "#fb9f3a"
             ],
             [
              0.8888888888888888,
              "#fdca26"
             ],
             [
              1,
              "#f0f921"
             ]
            ],
            "type": "heatmap"
           }
          ],
          "heatmapgl": [
           {
            "colorbar": {
             "outlinewidth": 0,
             "ticks": ""
            },
            "colorscale": [
             [
              0,
              "#0d0887"
             ],
             [
              0.1111111111111111,
              "#46039f"
             ],
             [
              0.2222222222222222,
              "#7201a8"
             ],
             [
              0.3333333333333333,
              "#9c179e"
             ],
             [
              0.4444444444444444,
              "#bd3786"
             ],
             [
              0.5555555555555556,
              "#d8576b"
             ],
             [
              0.6666666666666666,
              "#ed7953"
             ],
             [
              0.7777777777777778,
              "#fb9f3a"
             ],
             [
              0.8888888888888888,
              "#fdca26"
             ],
             [
              1,
              "#f0f921"
             ]
            ],
            "type": "heatmapgl"
           }
          ],
          "histogram": [
           {
            "marker": {
             "pattern": {
              "fillmode": "overlay",
              "size": 10,
              "solidity": 0.2
             }
            },
            "type": "histogram"
           }
          ],
          "histogram2d": [
           {
            "colorbar": {
             "outlinewidth": 0,
             "ticks": ""
            },
            "colorscale": [
             [
              0,
              "#0d0887"
             ],
             [
              0.1111111111111111,
              "#46039f"
             ],
             [
              0.2222222222222222,
              "#7201a8"
             ],
             [
              0.3333333333333333,
              "#9c179e"
             ],
             [
              0.4444444444444444,
              "#bd3786"
             ],
             [
              0.5555555555555556,
              "#d8576b"
             ],
             [
              0.6666666666666666,
              "#ed7953"
             ],
             [
              0.7777777777777778,
              "#fb9f3a"
             ],
             [
              0.8888888888888888,
              "#fdca26"
             ],
             [
              1,
              "#f0f921"
             ]
            ],
            "type": "histogram2d"
           }
          ],
          "histogram2dcontour": [
           {
            "colorbar": {
             "outlinewidth": 0,
             "ticks": ""
            },
            "colorscale": [
             [
              0,
              "#0d0887"
             ],
             [
              0.1111111111111111,
              "#46039f"
             ],
             [
              0.2222222222222222,
              "#7201a8"
             ],
             [
              0.3333333333333333,
              "#9c179e"
             ],
             [
              0.4444444444444444,
              "#bd3786"
             ],
             [
              0.5555555555555556,
              "#d8576b"
             ],
             [
              0.6666666666666666,
              "#ed7953"
             ],
             [
              0.7777777777777778,
              "#fb9f3a"
             ],
             [
              0.8888888888888888,
              "#fdca26"
             ],
             [
              1,
              "#f0f921"
             ]
            ],
            "type": "histogram2dcontour"
           }
          ],
          "mesh3d": [
           {
            "colorbar": {
             "outlinewidth": 0,
             "ticks": ""
            },
            "type": "mesh3d"
           }
          ],
          "parcoords": [
           {
            "line": {
             "colorbar": {
              "outlinewidth": 0,
              "ticks": ""
             }
            },
            "type": "parcoords"
           }
          ],
          "pie": [
           {
            "automargin": true,
            "type": "pie"
           }
          ],
          "scatter": [
           {
            "fillpattern": {
             "fillmode": "overlay",
             "size": 10,
             "solidity": 0.2
            },
            "type": "scatter"
           }
          ],
          "scatter3d": [
           {
            "line": {
             "colorbar": {
              "outlinewidth": 0,
              "ticks": ""
             }
            },
            "marker": {
             "colorbar": {
              "outlinewidth": 0,
              "ticks": ""
             }
            },
            "type": "scatter3d"
           }
          ],
          "scattercarpet": [
           {
            "marker": {
             "colorbar": {
              "outlinewidth": 0,
              "ticks": ""
             }
            },
            "type": "scattercarpet"
           }
          ],
          "scattergeo": [
           {
            "marker": {
             "colorbar": {
              "outlinewidth": 0,
              "ticks": ""
             }
            },
            "type": "scattergeo"
           }
          ],
          "scattergl": [
           {
            "marker": {
             "colorbar": {
              "outlinewidth": 0,
              "ticks": ""
             }
            },
            "type": "scattergl"
           }
          ],
          "scattermapbox": [
           {
            "marker": {
             "colorbar": {
              "outlinewidth": 0,
              "ticks": ""
             }
            },
            "type": "scattermapbox"
           }
          ],
          "scatterpolar": [
           {
            "marker": {
             "colorbar": {
              "outlinewidth": 0,
              "ticks": ""
             }
            },
            "type": "scatterpolar"
           }
          ],
          "scatterpolargl": [
           {
            "marker": {
             "colorbar": {
              "outlinewidth": 0,
              "ticks": ""
             }
            },
            "type": "scatterpolargl"
           }
          ],
          "scatterternary": [
           {
            "marker": {
             "colorbar": {
              "outlinewidth": 0,
              "ticks": ""
             }
            },
            "type": "scatterternary"
           }
          ],
          "surface": [
           {
            "colorbar": {
             "outlinewidth": 0,
             "ticks": ""
            },
            "colorscale": [
             [
              0,
              "#0d0887"
             ],
             [
              0.1111111111111111,
              "#46039f"
             ],
             [
              0.2222222222222222,
              "#7201a8"
             ],
             [
              0.3333333333333333,
              "#9c179e"
             ],
             [
              0.4444444444444444,
              "#bd3786"
             ],
             [
              0.5555555555555556,
              "#d8576b"
             ],
             [
              0.6666666666666666,
              "#ed7953"
             ],
             [
              0.7777777777777778,
              "#fb9f3a"
             ],
             [
              0.8888888888888888,
              "#fdca26"
             ],
             [
              1,
              "#f0f921"
             ]
            ],
            "type": "surface"
           }
          ],
          "table": [
           {
            "cells": {
             "fill": {
              "color": "#EBF0F8"
             },
             "line": {
              "color": "white"
             }
            },
            "header": {
             "fill": {
              "color": "#C8D4E3"
             },
             "line": {
              "color": "white"
             }
            },
            "type": "table"
           }
          ]
         },
         "layout": {
          "annotationdefaults": {
           "arrowcolor": "#2a3f5f",
           "arrowhead": 0,
           "arrowwidth": 1
          },
          "autotypenumbers": "strict",
          "coloraxis": {
           "colorbar": {
            "outlinewidth": 0,
            "ticks": ""
           }
          },
          "colorscale": {
           "diverging": [
            [
             0,
             "#8e0152"
            ],
            [
             0.1,
             "#c51b7d"
            ],
            [
             0.2,
             "#de77ae"
            ],
            [
             0.3,
             "#f1b6da"
            ],
            [
             0.4,
             "#fde0ef"
            ],
            [
             0.5,
             "#f7f7f7"
            ],
            [
             0.6,
             "#e6f5d0"
            ],
            [
             0.7,
             "#b8e186"
            ],
            [
             0.8,
             "#7fbc41"
            ],
            [
             0.9,
             "#4d9221"
            ],
            [
             1,
             "#276419"
            ]
           ],
           "sequential": [
            [
             0,
             "#0d0887"
            ],
            [
             0.1111111111111111,
             "#46039f"
            ],
            [
             0.2222222222222222,
             "#7201a8"
            ],
            [
             0.3333333333333333,
             "#9c179e"
            ],
            [
             0.4444444444444444,
             "#bd3786"
            ],
            [
             0.5555555555555556,
             "#d8576b"
            ],
            [
             0.6666666666666666,
             "#ed7953"
            ],
            [
             0.7777777777777778,
             "#fb9f3a"
            ],
            [
             0.8888888888888888,
             "#fdca26"
            ],
            [
             1,
             "#f0f921"
            ]
           ],
           "sequentialminus": [
            [
             0,
             "#0d0887"
            ],
            [
             0.1111111111111111,
             "#46039f"
            ],
            [
             0.2222222222222222,
             "#7201a8"
            ],
            [
             0.3333333333333333,
             "#9c179e"
            ],
            [
             0.4444444444444444,
             "#bd3786"
            ],
            [
             0.5555555555555556,
             "#d8576b"
            ],
            [
             0.6666666666666666,
             "#ed7953"
            ],
            [
             0.7777777777777778,
             "#fb9f3a"
            ],
            [
             0.8888888888888888,
             "#fdca26"
            ],
            [
             1,
             "#f0f921"
            ]
           ]
          },
          "colorway": [
           "#636efa",
           "#EF553B",
           "#00cc96",
           "#ab63fa",
           "#FFA15A",
           "#19d3f3",
           "#FF6692",
           "#B6E880",
           "#FF97FF",
           "#FECB52"
          ],
          "font": {
           "color": "#2a3f5f"
          },
          "geo": {
           "bgcolor": "white",
           "lakecolor": "white",
           "landcolor": "#E5ECF6",
           "showlakes": true,
           "showland": true,
           "subunitcolor": "white"
          },
          "hoverlabel": {
           "align": "left"
          },
          "hovermode": "closest",
          "mapbox": {
           "style": "light"
          },
          "paper_bgcolor": "white",
          "plot_bgcolor": "#E5ECF6",
          "polar": {
           "angularaxis": {
            "gridcolor": "white",
            "linecolor": "white",
            "ticks": ""
           },
           "bgcolor": "#E5ECF6",
           "radialaxis": {
            "gridcolor": "white",
            "linecolor": "white",
            "ticks": ""
           }
          },
          "scene": {
           "xaxis": {
            "backgroundcolor": "#E5ECF6",
            "gridcolor": "white",
            "gridwidth": 2,
            "linecolor": "white",
            "showbackground": true,
            "ticks": "",
            "zerolinecolor": "white"
           },
           "yaxis": {
            "backgroundcolor": "#E5ECF6",
            "gridcolor": "white",
            "gridwidth": 2,
            "linecolor": "white",
            "showbackground": true,
            "ticks": "",
            "zerolinecolor": "white"
           },
           "zaxis": {
            "backgroundcolor": "#E5ECF6",
            "gridcolor": "white",
            "gridwidth": 2,
            "linecolor": "white",
            "showbackground": true,
            "ticks": "",
            "zerolinecolor": "white"
           }
          },
          "shapedefaults": {
           "line": {
            "color": "#2a3f5f"
           }
          },
          "ternary": {
           "aaxis": {
            "gridcolor": "white",
            "linecolor": "white",
            "ticks": ""
           },
           "baxis": {
            "gridcolor": "white",
            "linecolor": "white",
            "ticks": ""
           },
           "bgcolor": "#E5ECF6",
           "caxis": {
            "gridcolor": "white",
            "linecolor": "white",
            "ticks": ""
           }
          },
          "title": {
           "x": 0.05
          },
          "xaxis": {
           "automargin": true,
           "gridcolor": "white",
           "linecolor": "white",
           "ticks": "",
           "title": {
            "standoff": 15
           },
           "zerolinecolor": "white",
           "zerolinewidth": 2
          },
          "yaxis": {
           "automargin": true,
           "gridcolor": "white",
           "linecolor": "white",
           "ticks": "",
           "title": {
            "standoff": 15
           },
           "zerolinecolor": "white",
           "zerolinewidth": 2
          }
         }
        },
        "title": {
         "text": "Sample Data"
        },
        "width": 600,
        "xaxis": {
         "title": {
          "text": "x"
         }
        },
        "yaxis": {
         "title": {
          "text": "y"
         }
        }
       }
      }
     },
     "metadata": {},
     "output_type": "display_data"
    }
   ],
   "source": [
    "fig = go.Figure()\n",
    "fig.add_trace(go.Scatter(\n",
    "    x=box.x, y=box.y,\n",
    "    mode='markers'\n",
    "))\n",
    "fig.update_layout(\n",
    "    title='Sample Data',\n",
    "    xaxis_title='x',\n",
    "    yaxis_title='y',\n",
    "    height=600, width=600\n",
    ")\n",
    "fig.show()"
   ]
  },
  {
   "cell_type": "markdown",
   "metadata": {},
   "source": [
    "Helper function to parse LLM responses"
   ]
  },
  {
   "cell_type": "code",
   "execution_count": 28,
   "metadata": {},
   "outputs": [],
   "source": [
    "def parse_open_ai_response(response):\n",
    "    content = response['choices'][0]['message']['content']\n",
    "    try:\n",
    "        content = content.replace('(', '').replace(')', '').split(',')\n",
    "        return True, tuple([int(s) for s in content])\n",
    "    except:\n",
    "        return False, content"
   ]
  },
  {
   "cell_type": "code",
   "execution_count": 29,
   "metadata": {},
   "outputs": [],
   "source": [
    "msg_tracker = MessageTracker(initial_params=str(box.best_params))"
   ]
  },
  {
   "cell_type": "code",
   "execution_count": 30,
   "metadata": {},
   "outputs": [
    {
     "name": "stdout",
     "output_type": "stream",
     "text": [
      "iteration: 0\n",
      "new estimate: (-10, 0), best loss: 13,971.5\n",
      "iteration: 1\n",
      "new estimate: (-10, -2), best loss: 13,971.5\n",
      "iteration: 2\n",
      "new estimate: (-7, 0), best loss: 6,659.9\n",
      "iteration: 3\n",
      "new estimate: (-7, -2), best loss: 6,659.9\n",
      "iteration: 4\n",
      "new estimate: (-6, -1), best loss: 6,659.9\n",
      "iteration: 5\n",
      "new estimate: (-7, -1), best loss: 6,659.9\n",
      "iteration: 6\n",
      "new estimate: (-7, 1), best loss: 5,181.1\n",
      "iteration: 7\n",
      "new estimate: (-6, 1), best loss: 5,181.1\n",
      "iteration: 8\n",
      "new estimate: (-7, 2), best loss: 3,902.2\n",
      "iteration: 9\n",
      "Response not formmatted according to guidelines. Reiterating specificaiton to LLM.\n",
      "response: ['[-7', ' 3', ' 2816', ' -7', ' 2', ' 3902', ' -7', ' 1', ' 5181', ' -7', ' 0', ' 6659', ' -6', ' 1', ' 8197', ' -7', ' -1', ' 8338', ' -7', ' -2', ' 10217', ' -6', ' -1', ' 11040', ' -8', ' -1', ' 13971', ' -9', ' -5', ' 37913', ' -10', ' 0', ' 48088', ' -10', ' -2', ' 52590', ' -2', ' -10', ' 122214', ' -1', ' -1', ' 149562', ' 0', ' 8', ' 204278', ' 1', ' -6', ' 268407', ' 5', ' 2', ' 592050', ' 5', ' 8', ' 599912', ' 8', ' 4', ' 929373', ' 9', ' 9', ' 1069077]']\n",
      "iteration: 10\n",
      "new estimate: (-7, 3), best loss: 2,823.3\n",
      "iteration: 11\n",
      "new estimate: (-7, 4), best loss: 1,944.5\n",
      "iteration: 12\n",
      "new estimate: (-7, 5), best loss: 1,265.6\n",
      "iteration: 13\n",
      "new estimate: (-7, 6), best loss: 786.8\n",
      "iteration: 14\n",
      "new estimate: (-7, 7), best loss: 507.9\n",
      "iteration: 15\n",
      "Solved on iteration 15!\n"
     ]
    }
   ],
   "source": [
    "for i in range(20):\n",
    "    print(f'iteration: {i}')\n",
    "    response = openai.ChatCompletion.create(model=\"gpt-4\", messages=msg_tracker.messages)\n",
    "    parse_success, estimate = parse_open_ai_response(response)\n",
    "    if not parse_success:\n",
    "        print(f'Response not formmatted according to guidelines. Reiterating specificaiton to LLM.')\n",
    "        print(f'response: {estimate}')\n",
    "        msg_tracker.reiterate_specification()\n",
    "    else:\n",
    "        if estimate == (a_true, b_true):\n",
    "            print(f'Solved on iteration {i}!')\n",
    "            break\n",
    "        else:\n",
    "            box.append_loss_df(estimate[0], estimate[1])\n",
    "            print(f'new estimate: {estimate}, best loss: {box.best_loss:,.1f}')\n",
    "            msg_tracker.append_params(box.best_params)"
   ]
  }
 ],
 "metadata": {
  "kernelspec": {
   "display_name": "Python 3",
   "language": "python",
   "name": "python3"
  },
  "language_info": {
   "codemirror_mode": {
    "name": "ipython",
    "version": 3
   },
   "file_extension": ".py",
   "mimetype": "text/x-python",
   "name": "python",
   "nbconvert_exporter": "python",
   "pygments_lexer": "ipython3",
   "version": "3.9.6"
  },
  "orig_nbformat": 4
 },
 "nbformat": 4,
 "nbformat_minor": 2
}
